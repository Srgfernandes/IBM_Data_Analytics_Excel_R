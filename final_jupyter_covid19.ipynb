{
 "cells": [
  {
   "cell_type": "markdown",
   "metadata": {},
   "source": [
    "<a href=\"https://cognitiveclass.ai/?utm_medium=Exinfluencer&utm_source=Exinfluencer&utm_content=000026UJ&utm_term=10006555&utm_id=NA-SkillsNetwork-Channel-SkillsNetworkCoursesIBMDeveloperSkillsNetworkRP0101ENCoursera23911160-2022-01-01\">\n",
    "    <img src=\"https://cf-courses-data.s3.us.cloud-object-storage.appdomain.cloud/IBMDeveloperSkillsNetwork-RP0101EN-Coursera/v2/M1_R_Basics/images/IDSNlogo.png\" width=\"200\" align=\"center\">\n",
    "</a>\n"
   ]
  },
  {
   "cell_type": "markdown",
   "metadata": {},
   "source": [
    "<h1>Analysis of Global COVID-19 Pandemic Data</h1>\n",
    "\n",
    "Estimated time needed: **90** minutes\n"
   ]
  },
  {
   "cell_type": "markdown",
   "metadata": {},
   "source": [
    "## Overview:\n",
    "\n",
    "There are 10 tasks in this final project. All tasks will be graded by your peers who are also completing this assignment within the same session.\n",
    "\n",
    "You need to submit the following the screenshot for the code and output for each task for review.\n",
    "\n",
    "If you need to refresh your memories about specific coding details, you may refer to previous hands-on labs for code examples.\n"
   ]
  },
  {
   "cell_type": "code",
   "execution_count": 1,
   "metadata": {},
   "outputs": [
    {
     "name": "stderr",
     "output_type": "stream",
     "text": [
      "Loading required package: httr\n",
      "Loading required package: rvest\n",
      "Loading required package: xml2\n"
     ]
    }
   ],
   "source": [
    "require(\"httr\")\n",
    "require(\"rvest\")\n",
    "\n",
    "library(httr)\n",
    "library(rvest)"
   ]
  },
  {
   "cell_type": "markdown",
   "metadata": {},
   "source": [
    "Note: if you can import above libraries, please use install.packages() to install them first.\n"
   ]
  },
  {
   "cell_type": "markdown",
   "metadata": {},
   "source": [
    "## TASK 1: Get a `COVID-19 pandemic` Wiki page using HTTP request\n"
   ]
  },
  {
   "cell_type": "markdown",
   "metadata": {},
   "source": [
    "First, let's write a function to use HTTP request to get a public COVID-19 Wiki page.\n",
    "\n",
    "Before you write the function, you can open this public page from this\n",
    "\n",
    "URL [https://en.wikipedia.org/w/index.php?title=Template\\:COVID-19\\_testing_by_country](https://en.wikipedia.org/w/index.php?utm_medium=Exinfluencer&utm_source=Exinfluencer&utm_content=000026UJ&utm_term=10006555&utm_id=NA-SkillsNetwork-Channel-SkillsNetworkCoursesIBMDeveloperSkillsNetworkRP0101ENCoursera23911160-2022-01-01&title=Template%3ACOVID-19\\_testing_by_country) using a web browser.\n",
    "\n",
    "The goal of task 1 is to get the html page using HTTP request (`httr` library)\n"
   ]
  },
  {
   "cell_type": "code",
   "execution_count": 5,
   "metadata": {},
   "outputs": [],
   "source": [
    "get_wiki_covid19_page <- function(url, prm) {\n",
    "\n",
    "wiki_url <- url\n",
    "query_prm <- list(title=prm)\n",
    "response <- GET (wiki_url , query=query_prm)\n",
    "return(response)\n",
    "}"
   ]
  },
  {
   "cell_type": "markdown",
   "metadata": {},
   "source": [
    "Call the `get_wiki_covid19_page` function to get a http response with the target html page\n"
   ]
  },
  {
   "cell_type": "code",
   "execution_count": 6,
   "metadata": {},
   "outputs": [
    {
     "data": {
      "text/plain": [
       "Response [https://en.wikipedia.org/w/index.php?title=Template%3ACOVID-19_testing_by_country]\n",
       "  Date: 2022-06-07 11:03\n",
       "  Status: 200\n",
       "  Content-Type: text/html; charset=UTF-8\n",
       "  Size: 413 kB\n",
       "<!DOCTYPE html>\n",
       "<html class=\"client-nojs\" lang=\"en\" dir=\"ltr\">\n",
       "<head>\n",
       "<meta charset=\"UTF-8\"/>\n",
       "<title>Template:COVID-19 testing by country - Wikipedia</title>\n",
       "<script>document.documentElement.className=\"client-js\";RLCONF={\"wgBreakFrames...\n",
       "\"CS1 German-language sources (de)\",\"CS1 Azerbaijani-language sources (az)\",\"C...\n",
       "\"CS1 uses Japanese-language script (ja)\",\"CS1 Japanese-language sources (ja)\"...\n",
       "\"COVID-19 pandemic templates\"],\"wgPageContentLanguage\":\"en\",\"wgPageContentMod...\n",
       "\"Q87325019\",\"GEHomepageSuggestedEditsEnableTopics\":true,\"wgGETopicsMatchModeE...\n",
       "..."
      ]
     },
     "metadata": {},
     "output_type": "display_data"
    }
   ],
   "source": [
    "# Call the get_wiki_covid19_page function and print the response\n",
    "get_wiki_covid19_page(\"https://en.wikipedia.org/w/index.php\",\"Template:COVID-19_testing_by_country\")"
   ]
  },
  {
   "cell_type": "markdown",
   "metadata": {},
   "source": [
    "## TASK 2: Extract COVID-19 testing data table from the wiki HTML page\n"
   ]
  },
  {
   "cell_type": "markdown",
   "metadata": {},
   "source": [
    "On the COVID-19 testing wiki page, you should see a data table `<table>` node contains COVID-19 testing data by country on the page:\n",
    "\n",
    "<a href=\"https://cognitiveclass.ai/?utm_medium=Exinfluencer&utm_source=Exinfluencer&utm_content=000026UJ&utm_term=10006555&utm_id=NA-SkillsNetwork-Channel-SkillsNetworkCoursesIBMDeveloperSkillsNetworkRP0101ENCoursera23911160-2022-01-01\">\n",
    "    <img src=\"https://cf-courses-data.s3.us.cloud-object-storage.appdomain.cloud/IBMDeveloperSkillsNetwork-RP0101EN-Coursera/v2/M5_Final/images/covid-19-by-country.png\" width=\"400\" align=\"center\">\n",
    "</a>\n",
    "\n",
    "Note the numbers you actually see on your page may be different from above because it is still an on-going pandemic when creating this notebook.\n",
    "\n",
    "The goal of task 2 is to extract above data table and convert it into a data frame\n"
   ]
  },
  {
   "cell_type": "markdown",
   "metadata": {},
   "source": [
    "Now use the `read_html` function in rvest library to get the root html node from response\n"
   ]
  },
  {
   "cell_type": "code",
   "execution_count": 7,
   "metadata": {},
   "outputs": [],
   "source": [
    "# Get the root html node from the http response in task 1 \n",
    "target_url <- get_wiki_covid19_page(\"https://en.wikipedia.org/w/index.php\",\"Template:COVID-19_testing_by_country\")\n",
    "root_node <- read_html(target_url)"
   ]
  },
  {
   "cell_type": "markdown",
   "metadata": {},
   "source": [
    "Get the first table in the HTML root node using `html_node` function\n"
   ]
  },
  {
   "cell_type": "code",
   "execution_count": 8,
   "metadata": {},
   "outputs": [],
   "source": [
    "# Get the table node from the root html node\n",
    "table_node <- html_node(root_node, \"table\")"
   ]
  },
  {
   "cell_type": "markdown",
   "metadata": {},
   "source": [
    "Read the table node as a data frame using `html_table` function\n"
   ]
  },
  {
   "cell_type": "code",
   "execution_count": 9,
   "metadata": {},
   "outputs": [
    {
     "data": {
      "text/html": [
       "<table>\n",
       "<caption>A data.frame: 6 × 9</caption>\n",
       "<thead>\n",
       "\t<tr><th></th><th scope=col>Country or region</th><th scope=col>Date[a]</th><th scope=col>Tested</th><th scope=col>Units[b]</th><th scope=col>Confirmed(cases)</th><th scope=col>Confirmed /tested,%</th><th scope=col>Tested /population,%</th><th scope=col>Confirmed /population,%</th><th scope=col>Ref.</th></tr>\n",
       "\t<tr><th></th><th scope=col>&lt;chr&gt;</th><th scope=col>&lt;chr&gt;</th><th scope=col>&lt;chr&gt;</th><th scope=col>&lt;chr&gt;</th><th scope=col>&lt;chr&gt;</th><th scope=col>&lt;chr&gt;</th><th scope=col>&lt;chr&gt;</th><th scope=col>&lt;chr&gt;</th><th scope=col>&lt;chr&gt;</th></tr>\n",
       "</thead>\n",
       "<tbody>\n",
       "\t<tr><th scope=row>1</th><td>Afghanistan        </td><td>17 Dec 2020</td><td>154,767</td><td>samples</td><td>49,621</td><td>32.1</td><td>0.40</td><td>0.13 </td><td>[1]   </td></tr>\n",
       "\t<tr><th scope=row>2</th><td>Albania            </td><td>18 Feb 2021</td><td>428,654</td><td>samples</td><td>96,838</td><td>22.6</td><td>15.0</td><td>3.4  </td><td>[2]   </td></tr>\n",
       "\t<tr><th scope=row>3</th><td>Algeria            </td><td>2 Nov 2020 </td><td>230,553</td><td>samples</td><td>58,574</td><td>25.4</td><td>0.53</td><td>0.13 </td><td>[3][4]</td></tr>\n",
       "\t<tr><th scope=row>4</th><td>Andorra            </td><td>23 Feb 2022</td><td>300,307</td><td>samples</td><td>37,958</td><td>12.6</td><td>387 </td><td>49.0 </td><td>[5]   </td></tr>\n",
       "\t<tr><th scope=row>5</th><td>Angola             </td><td>2 Feb 2021 </td><td>399,228</td><td>samples</td><td>20,981</td><td>5.3 </td><td>1.3 </td><td>0.067</td><td>[6]   </td></tr>\n",
       "\t<tr><th scope=row>6</th><td>Antigua and Barbuda</td><td>6 Mar 2021 </td><td>15,268 </td><td>samples</td><td>832   </td><td>5.4 </td><td>15.9</td><td>0.86 </td><td>[7]   </td></tr>\n",
       "</tbody>\n",
       "</table>\n"
      ],
      "text/latex": [
       "A data.frame: 6 × 9\n",
       "\\begin{tabular}{r|lllllllll}\n",
       "  & Country or region & Date{[}a{]} & Tested & Units{[}b{]} & Confirmed(cases) & Confirmed /tested,\\% & Tested /population,\\% & Confirmed /population,\\% & Ref.\\\\\n",
       "  & <chr> & <chr> & <chr> & <chr> & <chr> & <chr> & <chr> & <chr> & <chr>\\\\\n",
       "\\hline\n",
       "\t1 & Afghanistan         & 17 Dec 2020 & 154,767 & samples & 49,621 & 32.1 & 0.40 & 0.13  & {[}1{]}   \\\\\n",
       "\t2 & Albania             & 18 Feb 2021 & 428,654 & samples & 96,838 & 22.6 & 15.0 & 3.4   & {[}2{]}   \\\\\n",
       "\t3 & Algeria             & 2 Nov 2020  & 230,553 & samples & 58,574 & 25.4 & 0.53 & 0.13  & {[}3{]}{[}4{]}\\\\\n",
       "\t4 & Andorra             & 23 Feb 2022 & 300,307 & samples & 37,958 & 12.6 & 387  & 49.0  & {[}5{]}   \\\\\n",
       "\t5 & Angola              & 2 Feb 2021  & 399,228 & samples & 20,981 & 5.3  & 1.3  & 0.067 & {[}6{]}   \\\\\n",
       "\t6 & Antigua and Barbuda & 6 Mar 2021  & 15,268  & samples & 832    & 5.4  & 15.9 & 0.86  & {[}7{]}   \\\\\n",
       "\\end{tabular}\n"
      ],
      "text/markdown": [
       "\n",
       "A data.frame: 6 × 9\n",
       "\n",
       "| <!--/--> | Country or region &lt;chr&gt; | Date[a] &lt;chr&gt; | Tested &lt;chr&gt; | Units[b] &lt;chr&gt; | Confirmed(cases) &lt;chr&gt; | Confirmed /tested,% &lt;chr&gt; | Tested /population,% &lt;chr&gt; | Confirmed /population,% &lt;chr&gt; | Ref. &lt;chr&gt; |\n",
       "|---|---|---|---|---|---|---|---|---|---|\n",
       "| 1 | Afghanistan         | 17 Dec 2020 | 154,767 | samples | 49,621 | 32.1 | 0.40 | 0.13  | [1]    |\n",
       "| 2 | Albania             | 18 Feb 2021 | 428,654 | samples | 96,838 | 22.6 | 15.0 | 3.4   | [2]    |\n",
       "| 3 | Algeria             | 2 Nov 2020  | 230,553 | samples | 58,574 | 25.4 | 0.53 | 0.13  | [3][4] |\n",
       "| 4 | Andorra             | 23 Feb 2022 | 300,307 | samples | 37,958 | 12.6 | 387  | 49.0  | [5]    |\n",
       "| 5 | Angola              | 2 Feb 2021  | 399,228 | samples | 20,981 | 5.3  | 1.3  | 0.067 | [6]    |\n",
       "| 6 | Antigua and Barbuda | 6 Mar 2021  | 15,268  | samples | 832    | 5.4  | 15.9 | 0.86  | [7]    |\n",
       "\n"
      ],
      "text/plain": [
       "  Country or region   Date[a]     Tested  Units[b] Confirmed(cases)\n",
       "1 Afghanistan         17 Dec 2020 154,767 samples  49,621          \n",
       "2 Albania             18 Feb 2021 428,654 samples  96,838          \n",
       "3 Algeria             2 Nov 2020  230,553 samples  58,574          \n",
       "4 Andorra             23 Feb 2022 300,307 samples  37,958          \n",
       "5 Angola              2 Feb 2021  399,228 samples  20,981          \n",
       "6 Antigua and Barbuda 6 Mar 2021  15,268  samples  832             \n",
       "  Confirmed /tested,% Tested /population,% Confirmed /population,% Ref.  \n",
       "1 32.1                0.40                 0.13                    [1]   \n",
       "2 22.6                15.0                 3.4                     [2]   \n",
       "3 25.4                0.53                 0.13                    [3][4]\n",
       "4 12.6                387                  49.0                    [5]   \n",
       "5 5.3                 1.3                  0.067                   [6]   \n",
       "6 5.4                 15.9                 0.86                    [7]   "
      ]
     },
     "metadata": {},
     "output_type": "display_data"
    }
   ],
   "source": [
    "# Read the table node and convert it into a data frame, and print the data frame for review\n",
    "covid_data <- html_table(table_node)\n",
    "head(covid_data)"
   ]
  },
  {
   "cell_type": "markdown",
   "metadata": {},
   "source": [
    "## TASK 3: Pre-process and export the extracted data frame\n",
    "\n",
    "The goal of task 3 is to pre-process the extracted data frame from the previous step, and export it as a csv file\n"
   ]
  },
  {
   "cell_type": "markdown",
   "metadata": {},
   "source": [
    "Let's get a summary of the data frame\n"
   ]
  },
  {
   "cell_type": "code",
   "execution_count": 10,
   "metadata": {},
   "outputs": [
    {
     "data": {
      "text/plain": [
       " Country or region    Date[a]             Tested            Units[b]        \n",
       " Length:173         Length:173         Length:173         Length:173        \n",
       " Class :character   Class :character   Class :character   Class :character  \n",
       " Mode  :character   Mode  :character   Mode  :character   Mode  :character  \n",
       " Confirmed(cases)   Confirmed /tested,% Tested /population,%\n",
       " Length:173         Length:173          Length:173          \n",
       " Class :character   Class :character    Class :character    \n",
       " Mode  :character   Mode  :character    Mode  :character    \n",
       " Confirmed /population,%     Ref.          \n",
       " Length:173              Length:173        \n",
       " Class :character        Class :character  \n",
       " Mode  :character        Mode  :character  "
      ]
     },
     "metadata": {},
     "output_type": "display_data"
    }
   ],
   "source": [
    "# Print the summary of the data frame\n",
    "summary(covid_data)"
   ]
  },
  {
   "cell_type": "markdown",
   "metadata": {},
   "source": [
    "As you can see from the summary, the columns names are little bit different to understand and some column data types are not correct. For example, the `Tested` column shows as `character`.\n",
    "\n",
    "As such, the data frame read from HTML table will need some pre-processing such as removing irrelvant columns, renaming columns, and convert columns into proper data types.\n"
   ]
  },
  {
   "cell_type": "markdown",
   "metadata": {},
   "source": [
    "We have prepared a pre-processing function for you to conver the data frame but you can also try to write one by yourself\n"
   ]
  },
  {
   "cell_type": "code",
   "execution_count": 11,
   "metadata": {},
   "outputs": [],
   "source": [
    "preprocess_covid_data_frame <- function(data_frame) {\n",
    "    \n",
    "    shape <- dim(data_frame)\n",
    "\n",
    "    # Remove the World row\n",
    "    data_frame<-data_frame[!(data_frame$`Country or region`==\"World\"),]\n",
    "    # Remove the last row\n",
    "    data_frame <- data_frame[1:172, ]\n",
    "    \n",
    "    # We dont need the Units and Ref columns, so can be removed\n",
    "    data_frame[\"Ref.\"] <- NULL\n",
    "    data_frame[\"Units[b]\"] <- NULL\n",
    "    \n",
    "    # Renaming the columns\n",
    "    names(data_frame) <- c(\"country\", \"date\", \"tested\", \"confirmed\", \"confirmed.tested.ratio\", \"tested.population.ratio\", \"confirmed.population.ratio\")\n",
    "    \n",
    "    # Convert column data types\n",
    "    data_frame$country <- as.factor(data_frame$country)\n",
    "    data_frame$date <- as.factor(data_frame$date)\n",
    "    data_frame$tested <- as.numeric(gsub(\",\",\"\",data_frame$tested))\n",
    "    data_frame$confirmed <- as.numeric(gsub(\",\",\"\",data_frame$confirmed))\n",
    "    data_frame$'confirmed.tested.ratio' <- as.numeric(gsub(\",\",\"\",data_frame$`confirmed.tested.ratio`))\n",
    "    data_frame$'tested.population.ratio' <- as.numeric(gsub(\",\",\"\",data_frame$`tested.population.ratio`))\n",
    "    data_frame$'confirmed.population.ratio' <- as.numeric(gsub(\",\",\"\",data_frame$`confirmed.population.ratio`))\n",
    "    \n",
    "    return(data_frame)\n",
    "}\n",
    "\n"
   ]
  },
  {
   "cell_type": "markdown",
   "metadata": {},
   "source": [
    "Call the `preprocess_covid_data_frame` function\n"
   ]
  },
  {
   "cell_type": "code",
   "execution_count": 12,
   "metadata": {},
   "outputs": [],
   "source": [
    "# call `preprocess_covid_data_frame` function and assign it to a new data frame\n",
    "covid_data_v2 <- preprocess_covid_data_frame(covid_data)"
   ]
  },
  {
   "cell_type": "markdown",
   "metadata": {},
   "source": [
    "Get the summary of the processed data frame again\n"
   ]
  },
  {
   "cell_type": "code",
   "execution_count": 13,
   "metadata": {},
   "outputs": [
    {
     "data": {
      "text/plain": [
       "                country             date         tested         \n",
       " Afghanistan        :  1   3 Jun 2022 : 11   Min.   :     3880  \n",
       " Albania            :  1   2 Jun 2022 :  9   1st Qu.:   512037  \n",
       " Algeria            :  1   6 Jun 2022 :  8   Median :  3029859  \n",
       " Andorra            :  1   5 Jun 2022 :  7   Mean   : 26383713  \n",
       " Angola             :  1   4 Jun 2022 :  5   3rd Qu.: 11742081  \n",
       " Antigua and Barbuda:  1   31 May 2022:  4   Max.   :553621766  \n",
       " (Other)            :166   (Other)    :128                      \n",
       "   confirmed        confirmed.tested.ratio tested.population.ratio\n",
       " Min.   :       0   Min.   : 0.00          Min.   :   0.0065      \n",
       " 1st Qu.:   37000   1st Qu.: 5.00          1st Qu.:   8.5000      \n",
       " Median :  281196   Median : 9.60          Median :  44.1500      \n",
       " Mean   : 1952229   Mean   :10.92          Mean   : 165.0473      \n",
       " 3rd Qu.: 1155165   3rd Qu.:15.07          3rd Qu.: 141.0000      \n",
       " Max.   :35940893   Max.   :42.80          Max.   :2871.0000      \n",
       "                                                                  \n",
       " confirmed.population.ratio\n",
       " Min.   : 0.000            \n",
       " 1st Qu.: 0.425            \n",
       " Median : 5.850            \n",
       " Mean   :11.023            \n",
       " 3rd Qu.:14.525            \n",
       " Max.   :65.700            \n",
       "                           "
      ]
     },
     "metadata": {},
     "output_type": "display_data"
    }
   ],
   "source": [
    "# Print the summary of the processed data frame again\n",
    "summary(covid_data_v2)"
   ]
  },
  {
   "cell_type": "markdown",
   "metadata": {},
   "source": [
    "After pre-processing, you can see the columns and columns names are simplified, and columns types are converted into correct types.\n"
   ]
  },
  {
   "cell_type": "markdown",
   "metadata": {},
   "source": [
    "The data frame has following columns:\n",
    "\n",
    "*   **country** - The name of the country\n",
    "*   **date** - Reported date\n",
    "*   **tested** - Total tested cases by the reported date\n",
    "*   **confirmed** - Total confirmed cases by the reported date\n",
    "*   **confirmed.tested.ratio** - The ratio of confirmed cases to the tested cases\n",
    "*   **tested.population.ratio** - The ratio of tested cases to the population of the country\n",
    "*   **confirmed.population.ratio** - The ratio of confirmed cases to the population of the country\n"
   ]
  },
  {
   "cell_type": "markdown",
   "metadata": {},
   "source": [
    "OK, we can call `write.csv()` function to save the csv file into a file.\n"
   ]
  },
  {
   "cell_type": "code",
   "execution_count": 14,
   "metadata": {},
   "outputs": [],
   "source": [
    "# Export the data frame to a csv file\n",
    "write.csv(covid_data_v2, file='Covid.csv')"
   ]
  },
  {
   "cell_type": "markdown",
   "metadata": {},
   "source": [
    "Note for IBM Waston Studio, there is no traditional \"hard disk\" associated with a R workspace.\n",
    "\n",
    "Even if you call `write.csv()` method to save the data frame as a csv file, it won't be shown in IBM Cloud Object Storage asset UI automatically.\n",
    "\n",
    "However, you may still check if the `covid.csv` exists using following code snippet:\n"
   ]
  },
  {
   "cell_type": "code",
   "execution_count": 15,
   "metadata": {},
   "outputs": [
    {
     "name": "stdout",
     "output_type": "stream",
     "text": [
      "[1] \"/resources/v2/M5_Final/covid.csv\"\n"
     ]
    },
    {
     "data": {
      "text/html": [
       "FALSE"
      ],
      "text/latex": [
       "FALSE"
      ],
      "text/markdown": [
       "FALSE"
      ],
      "text/plain": [
       "[1] FALSE"
      ]
     },
     "metadata": {},
     "output_type": "display_data"
    }
   ],
   "source": [
    "# Get working directory\n",
    "wd <- getwd()\n",
    "# Get exported \n",
    "file_path <- paste(wd, sep=\"\", \"/covid.csv\")\n",
    "# File path\n",
    "print(file_path)\n",
    "file.exists(file_path)"
   ]
  },
  {
   "cell_type": "markdown",
   "metadata": {},
   "source": [
    "**Optional Step**: If you have difficulties finishing above webscraping tasks, you may still continue with next tasks by downloading a provided csv file from here:\n"
   ]
  },
  {
   "cell_type": "code",
   "execution_count": 16,
   "metadata": {},
   "outputs": [],
   "source": [
    "## Download a sample csv file\n",
    "covid_csv_file <- download.file(\"https://cf-courses-data.s3.us.cloud-object-storage.appdomain.cloud/IBMDeveloperSkillsNetwork-RP0101EN-Coursera/v2/dataset/covid.csv\", destfile=\"covid.csv\")\n",
    "covid_data_frame_csv <- read.csv(\"covid.csv\", header=TRUE, sep=\",\")"
   ]
  },
  {
   "cell_type": "markdown",
   "metadata": {},
   "source": [
    "## TASK 4: Get a subset of the extracted data frame\n",
    "\n",
    "The goal of task 4 is to get the 5th to 10th rows from the data frame with only `country` and `confirmed` columns selected\n"
   ]
  },
  {
   "cell_type": "code",
   "execution_count": 17,
   "metadata": {},
   "outputs": [
    {
     "data": {
      "text/html": [
       "<table>\n",
       "<caption>A data.frame: 6 × 2</caption>\n",
       "<thead>\n",
       "\t<tr><th></th><th scope=col>country</th><th scope=col>confirmed</th></tr>\n",
       "\t<tr><th></th><th scope=col>&lt;fct&gt;</th><th scope=col>&lt;int&gt;</th></tr>\n",
       "</thead>\n",
       "<tbody>\n",
       "\t<tr><th scope=row>5</th><td>Angola             </td><td>  20981</td></tr>\n",
       "\t<tr><th scope=row>6</th><td>Antigua and Barbuda</td><td>    832</td></tr>\n",
       "\t<tr><th scope=row>7</th><td>Argentina          </td><td>2195722</td></tr>\n",
       "\t<tr><th scope=row>8</th><td>Armenia            </td><td> 177104</td></tr>\n",
       "\t<tr><th scope=row>9</th><td>Australia          </td><td>  29130</td></tr>\n",
       "\t<tr><th scope=row>10</th><td>Austria            </td><td> 488007</td></tr>\n",
       "</tbody>\n",
       "</table>\n"
      ],
      "text/latex": [
       "A data.frame: 6 × 2\n",
       "\\begin{tabular}{r|ll}\n",
       "  & country & confirmed\\\\\n",
       "  & <fct> & <int>\\\\\n",
       "\\hline\n",
       "\t5 & Angola              &   20981\\\\\n",
       "\t6 & Antigua and Barbuda &     832\\\\\n",
       "\t7 & Argentina           & 2195722\\\\\n",
       "\t8 & Armenia             &  177104\\\\\n",
       "\t9 & Australia           &   29130\\\\\n",
       "\t10 & Austria             &  488007\\\\\n",
       "\\end{tabular}\n"
      ],
      "text/markdown": [
       "\n",
       "A data.frame: 6 × 2\n",
       "\n",
       "| <!--/--> | country &lt;fct&gt; | confirmed &lt;int&gt; |\n",
       "|---|---|---|\n",
       "| 5 | Angola              |   20981 |\n",
       "| 6 | Antigua and Barbuda |     832 |\n",
       "| 7 | Argentina           | 2195722 |\n",
       "| 8 | Armenia             |  177104 |\n",
       "| 9 | Australia           |   29130 |\n",
       "| 10 | Austria             |  488007 |\n",
       "\n"
      ],
      "text/plain": [
       "   country             confirmed\n",
       "5  Angola                20981  \n",
       "6  Antigua and Barbuda     832  \n",
       "7  Argentina           2195722  \n",
       "8  Armenia              177104  \n",
       "9  Australia             29130  \n",
       "10 Austria              488007  "
      ]
     },
     "metadata": {},
     "output_type": "display_data"
    }
   ],
   "source": [
    "# Read covid_data_frame_csv from the csv file\n",
    "covid_subset <- read.csv('covid.csv')\n",
    "\n",
    "# Get the 5th to 10th rows, with two \"country\" \"confirmed\" columns\n",
    "covid_subset[5:10,c('country','confirmed')]"
   ]
  },
  {
   "cell_type": "markdown",
   "metadata": {},
   "source": [
    "## TASK 5: Calculate worldwide COVID testing positive ratio\n",
    "\n",
    "The goal of task 5 is to get the total confirmed and tested cases worldwide, and try to figure the overall positive ratio using `confirmed cases / tested cases`\n"
   ]
  },
  {
   "cell_type": "code",
   "execution_count": 18,
   "metadata": {},
   "outputs": [
    {
     "data": {
      "text/html": [
       "117313932"
      ],
      "text/latex": [
       "117313932"
      ],
      "text/markdown": [
       "117313932"
      ],
      "text/plain": [
       "[1] 117313932"
      ]
     },
     "metadata": {},
     "output_type": "display_data"
    },
    {
     "data": {
      "text/html": [
       "1698581244"
      ],
      "text/latex": [
       "1698581244"
      ],
      "text/markdown": [
       "1698581244"
      ],
      "text/plain": [
       "[1] 1698581244"
      ]
     },
     "metadata": {},
     "output_type": "display_data"
    },
    {
     "data": {
      "text/html": [
       "0.0690658350399164"
      ],
      "text/latex": [
       "0.0690658350399164"
      ],
      "text/markdown": [
       "0.0690658350399164"
      ],
      "text/plain": [
       "[1] 0.06906584"
      ]
     },
     "metadata": {},
     "output_type": "display_data"
    }
   ],
   "source": [
    "# Get the total confirmed cases worldwide\n",
    "sum(covid_subset$confirmed)\n",
    "\n",
    "# Get the total tested cases worldwide\n",
    "sum(covid_subset$tested)\n",
    "\n",
    "# Get the positive ratio (confirmed / tested)\n",
    "positive_ratio <- sum(covid_subset$confirmed)/sum(covid_subset$tested)\n",
    "positive_ratio\n"
   ]
  },
  {
   "cell_type": "markdown",
   "metadata": {},
   "source": [
    "## TASK 6: Get a country list which reported their testing data\n",
    "\n",
    "The goal of task 6 is to get a catalog or sorted list of countries who have reported their COVID-19 testing data\n"
   ]
  },
  {
   "cell_type": "code",
   "execution_count": 19,
   "metadata": {},
   "outputs": [
    {
     "data": {
      "text/html": [
       "'factor'"
      ],
      "text/latex": [
       "'factor'"
      ],
      "text/markdown": [
       "'factor'"
      ],
      "text/plain": [
       "[1] \"factor\""
      ]
     },
     "metadata": {},
     "output_type": "display_data"
    },
    {
     "name": "stdout",
     "output_type": "stream",
     "text": [
      "  [1] Zimbabwe               Zambia                 Vietnam               \n",
      "  [4] Venezuela              Uzbekistan             Uruguay               \n",
      "  [7] United States          United Kingdom         United Arab Emirates  \n",
      " [10] Ukraine                Uganda                 Turkey                \n",
      " [13] Tunisia                Trinidad and Tobago    Togo                  \n",
      " [16] Thailand               Tanzania               Taiwan[m]             \n",
      " [19] Switzerland[l]         Sweden                 Sudan                 \n",
      " [22] Sri Lanka              Spain                  South Sudan           \n",
      " [25] South Korea            South Africa           Slovenia              \n",
      " [28] Slovakia               Singapore              Serbia                \n",
      " [31] Senegal                Saudi Arabia           San Marino            \n",
      " [34] Saint Vincent          Saint Lucia            Saint Kitts and Nevis \n",
      " [37] Rwanda                 Russia                 Romania               \n",
      " [40] Qatar                  Portugal               Poland                \n",
      " [43] Philippines            Peru                   Paraguay              \n",
      " [46] Papua New Guinea       Panama                 Palestine             \n",
      " [49] Pakistan               Oman                   Norway                \n",
      " [52] Northern Cyprus[k]     North Macedonia        North Korea           \n",
      " [55] Nigeria                Niger                  New Zealand           \n",
      " [58] New Caledonia          Netherlands            Nepal                 \n",
      " [61] Namibia                Myanmar                Mozambique            \n",
      " [64] Morocco                Montenegro             Mongolia              \n",
      " [67] Moldova[j]             Mexico                 Mauritius             \n",
      " [70] Mauritania             Malta                  Mali                  \n",
      " [73] Maldives               Malaysia               Malawi                \n",
      " [76] Madagascar             Luxembourg[i]          Lithuania             \n",
      " [79] Libya                  Liberia                Lesotho               \n",
      " [82] Lebanon                Latvia                 Laos                  \n",
      " [85] Kyrgyzstan             Kuwait                 Kosovo                \n",
      " [88] Kenya                  Kazakhstan             Jordan                \n",
      " [91] Japan                  Jamaica                Ivory Coast           \n",
      " [94] Italy                  Israel                 Ireland               \n",
      " [97] Iraq                   Iran                   Indonesia             \n",
      "[100] India                  Iceland                Hungary               \n",
      "[103] Honduras               Haiti                  Guyana                \n",
      "[106] Guinea-Bissau          Guinea                 Guatemala             \n",
      "[109] Grenada                Greenland              Greece                \n",
      "[112] Ghana                  Germany                Georgia[h]            \n",
      "[115] Gambia                 Gabon                  France[f][g]          \n",
      "[118] Finland                Fiji                   Faroe Islands         \n",
      "[121] Ethiopia               Eswatini               Estonia               \n",
      "[124] Equatorial Guinea      El Salvador            Egypt                 \n",
      "[127] Ecuador                DR Congo               Dominican Republic    \n",
      "[130] Dominica               Djibouti               Denmark[e]            \n",
      "[133] Czechia                Cyprus[d]              Cuba                  \n",
      "[136] Croatia                Costa Rica             Colombia              \n",
      "[139] China[c]               Chile                  Chad                  \n",
      "[142] Canada                 Cameroon               Cambodia              \n",
      "[145] Burundi                Burkina Faso           Bulgaria              \n",
      "[148] Brunei                 Brazil                 Botswana              \n",
      "[151] Bosnia and Herzegovina Bolivia                Bhutan                \n",
      "[154] Benin                  Belize                 Belgium               \n",
      "[157] Belarus                Barbados               Bangladesh            \n",
      "[160] Bahrain                Bahamas                Azerbaijan            \n",
      "[163] Austria                Australia              Armenia               \n",
      "[166] Argentina              Antigua and Barbuda    Angola                \n",
      "[169] Andorra                Algeria                Albania               \n",
      "[172] Afghanistan           \n",
      "172 Levels: Afghanistan Albania Algeria Andorra Angola ... Zimbabwe\n"
     ]
    }
   ],
   "source": [
    "# Get the `country` column\n",
    "countries <- covid_subset$country\n",
    "\n",
    "# Check its class (should be Factor)\n",
    "class(countries)\n",
    "\n",
    "# Conver the country column into character so that you can easily sort them\n",
    "\n",
    "\n",
    "# Sort the countries AtoZ\n",
    "AZ <- sort(countries)\n",
    "\n",
    "# Sort the countries ZtoA\n",
    "ZA <- sort(countries, decreasing = TRUE)\n",
    "\n",
    "# Print the sorted ZtoA list\n",
    "print(ZA)\n"
   ]
  },
  {
   "cell_type": "markdown",
   "metadata": {},
   "source": [
    "## TASK 7: Identify countries names with a specific pattern\n",
    "\n",
    "The goal of task 7 is using a regular expression to find any countires start with `United`\n"
   ]
  },
  {
   "cell_type": "code",
   "execution_count": 20,
   "metadata": {},
   "outputs": [
    {
     "data": {
      "text/html": [
       "<style>\n",
       ".list-inline {list-style: none; margin:0; padding: 0}\n",
       ".list-inline>li {display: inline-block}\n",
       ".list-inline>li:not(:last-child)::after {content: \"\\00b7\"; padding: 0 .5ex}\n",
       "</style>\n",
       "<ol class=list-inline><li>United Arab Emirates</li><li>United Kingdom</li><li>United States</li></ol>\n",
       "\n",
       "<details>\n",
       "\t<summary style=display:list-item;cursor:pointer>\n",
       "\t\t<strong>Levels</strong>:\n",
       "\t</summary>\n",
       "\t<style>\n",
       "\t.list-inline {list-style: none; margin:0; padding: 0}\n",
       "\t.list-inline>li {display: inline-block}\n",
       "\t.list-inline>li:not(:last-child)::after {content: \"\\00b7\"; padding: 0 .5ex}\n",
       "\t</style>\n",
       "\t<ol class=list-inline><li>'Afghanistan'</li><li>'Albania'</li><li>'Algeria'</li><li>'Andorra'</li><li>'Angola'</li><li>'Antigua and Barbuda'</li><li>'Argentina'</li><li>'Armenia'</li><li>'Australia'</li><li>'Austria'</li><li>'Azerbaijan'</li><li>'Bahamas'</li><li>'Bahrain'</li><li>'Bangladesh'</li><li>'Barbados'</li><li>'Belarus'</li><li>'Belgium'</li><li>'Belize'</li><li>'Benin'</li><li>'Bhutan'</li><li>'Bolivia'</li><li>'Bosnia and Herzegovina'</li><li>'Botswana'</li><li>'Brazil'</li><li>'Brunei'</li><li>'Bulgaria'</li><li>'Burkina Faso'</li><li>'Burundi'</li><li>'Cambodia'</li><li>'Cameroon'</li><li>'Canada'</li><li>'Chad'</li><li>'Chile'</li><li>'China[c]'</li><li>'Colombia'</li><li>'Costa Rica'</li><li>'Croatia'</li><li>'Cuba'</li><li>'Cyprus[d]'</li><li>'Czechia'</li><li>'Denmark[e]'</li><li>'Djibouti'</li><li>'Dominica'</li><li>'Dominican Republic'</li><li>'DR Congo'</li><li>'Ecuador'</li><li>'Egypt'</li><li>'El Salvador'</li><li>'Equatorial Guinea'</li><li>'Estonia'</li><li>'Eswatini'</li><li>'Ethiopia'</li><li>'Faroe Islands'</li><li>'Fiji'</li><li>'Finland'</li><li>'France[f][g]'</li><li>'Gabon'</li><li>'Gambia'</li><li>'Georgia[h]'</li><li>'Germany'</li><li>'Ghana'</li><li>'Greece'</li><li>'Greenland'</li><li>'Grenada'</li><li>'Guatemala'</li><li>'Guinea'</li><li>'Guinea-Bissau'</li><li>'Guyana'</li><li>'Haiti'</li><li>'Honduras'</li><li>'Hungary'</li><li>'Iceland'</li><li>'India'</li><li>'Indonesia'</li><li>'Iran'</li><li>'Iraq'</li><li>'Ireland'</li><li>'Israel'</li><li>'Italy'</li><li>'Ivory Coast'</li><li>'Jamaica'</li><li>'Japan'</li><li>'Jordan'</li><li>'Kazakhstan'</li><li>'Kenya'</li><li>'Kosovo'</li><li>'Kuwait'</li><li>'Kyrgyzstan'</li><li>'Laos'</li><li>'Latvia'</li><li>'Lebanon'</li><li>'Lesotho'</li><li>'Liberia'</li><li>'Libya'</li><li>'Lithuania'</li><li>'Luxembourg[i]'</li><li>'Madagascar'</li><li>'Malawi'</li><li>'Malaysia'</li><li>'Maldives'</li><li>'Mali'</li><li>'Malta'</li><li>'Mauritania'</li><li>'Mauritius'</li><li>'Mexico'</li><li>'Moldova[j]'</li><li>'Mongolia'</li><li>'Montenegro'</li><li>'Morocco'</li><li>'Mozambique'</li><li>'Myanmar'</li><li>'Namibia'</li><li>'Nepal'</li><li>'Netherlands'</li><li>'New Caledonia'</li><li>'New Zealand'</li><li>'Niger'</li><li>'Nigeria'</li><li>'North Korea'</li><li>'North Macedonia'</li><li>'Northern Cyprus[k]'</li><li>'Norway'</li><li>'Oman'</li><li>'Pakistan'</li><li>'Palestine'</li><li>'Panama'</li><li>'Papua New Guinea'</li><li>'Paraguay'</li><li>'Peru'</li><li>'Philippines'</li><li>'Poland'</li><li>'Portugal'</li><li>'Qatar'</li><li>'Romania'</li><li>'Russia'</li><li>'Rwanda'</li><li>'Saint Kitts and Nevis'</li><li>'Saint Lucia'</li><li>'Saint Vincent'</li><li>'San Marino'</li><li>'Saudi Arabia'</li><li>'Senegal'</li><li>'Serbia'</li><li>'Singapore'</li><li>'Slovakia'</li><li>'Slovenia'</li><li>'South Africa'</li><li>'South Korea'</li><li>'South Sudan'</li><li>'Spain'</li><li>'Sri Lanka'</li><li>'Sudan'</li><li>'Sweden'</li><li>'Switzerland[l]'</li><li>'Taiwan[m]'</li><li>'Tanzania'</li><li>'Thailand'</li><li>'Togo'</li><li>'Trinidad and Tobago'</li><li>'Tunisia'</li><li>'Turkey'</li><li>'Uganda'</li><li>'Ukraine'</li><li>'United Arab Emirates'</li><li>'United Kingdom'</li><li>'United States'</li><li>'Uruguay'</li><li>'Uzbekistan'</li><li>'Venezuela'</li><li>'Vietnam'</li><li>'Zambia'</li><li>'Zimbabwe'</li></ol>\n",
       "</details>"
      ],
      "text/latex": [
       "\\begin{enumerate*}\n",
       "\\item United Arab Emirates\n",
       "\\item United Kingdom\n",
       "\\item United States\n",
       "\\end{enumerate*}\n",
       "\n",
       "\\emph{Levels}: \\begin{enumerate*}\n",
       "\\item 'Afghanistan'\n",
       "\\item 'Albania'\n",
       "\\item 'Algeria'\n",
       "\\item 'Andorra'\n",
       "\\item 'Angola'\n",
       "\\item 'Antigua and Barbuda'\n",
       "\\item 'Argentina'\n",
       "\\item 'Armenia'\n",
       "\\item 'Australia'\n",
       "\\item 'Austria'\n",
       "\\item 'Azerbaijan'\n",
       "\\item 'Bahamas'\n",
       "\\item 'Bahrain'\n",
       "\\item 'Bangladesh'\n",
       "\\item 'Barbados'\n",
       "\\item 'Belarus'\n",
       "\\item 'Belgium'\n",
       "\\item 'Belize'\n",
       "\\item 'Benin'\n",
       "\\item 'Bhutan'\n",
       "\\item 'Bolivia'\n",
       "\\item 'Bosnia and Herzegovina'\n",
       "\\item 'Botswana'\n",
       "\\item 'Brazil'\n",
       "\\item 'Brunei'\n",
       "\\item 'Bulgaria'\n",
       "\\item 'Burkina Faso'\n",
       "\\item 'Burundi'\n",
       "\\item 'Cambodia'\n",
       "\\item 'Cameroon'\n",
       "\\item 'Canada'\n",
       "\\item 'Chad'\n",
       "\\item 'Chile'\n",
       "\\item 'China{[}c{]}'\n",
       "\\item 'Colombia'\n",
       "\\item 'Costa Rica'\n",
       "\\item 'Croatia'\n",
       "\\item 'Cuba'\n",
       "\\item 'Cyprus{[}d{]}'\n",
       "\\item 'Czechia'\n",
       "\\item 'Denmark{[}e{]}'\n",
       "\\item 'Djibouti'\n",
       "\\item 'Dominica'\n",
       "\\item 'Dominican Republic'\n",
       "\\item 'DR Congo'\n",
       "\\item 'Ecuador'\n",
       "\\item 'Egypt'\n",
       "\\item 'El Salvador'\n",
       "\\item 'Equatorial Guinea'\n",
       "\\item 'Estonia'\n",
       "\\item 'Eswatini'\n",
       "\\item 'Ethiopia'\n",
       "\\item 'Faroe Islands'\n",
       "\\item 'Fiji'\n",
       "\\item 'Finland'\n",
       "\\item 'France{[}f{]}{[}g{]}'\n",
       "\\item 'Gabon'\n",
       "\\item 'Gambia'\n",
       "\\item 'Georgia{[}h{]}'\n",
       "\\item 'Germany'\n",
       "\\item 'Ghana'\n",
       "\\item 'Greece'\n",
       "\\item 'Greenland'\n",
       "\\item 'Grenada'\n",
       "\\item 'Guatemala'\n",
       "\\item 'Guinea'\n",
       "\\item 'Guinea-Bissau'\n",
       "\\item 'Guyana'\n",
       "\\item 'Haiti'\n",
       "\\item 'Honduras'\n",
       "\\item 'Hungary'\n",
       "\\item 'Iceland'\n",
       "\\item 'India'\n",
       "\\item 'Indonesia'\n",
       "\\item 'Iran'\n",
       "\\item 'Iraq'\n",
       "\\item 'Ireland'\n",
       "\\item 'Israel'\n",
       "\\item 'Italy'\n",
       "\\item 'Ivory Coast'\n",
       "\\item 'Jamaica'\n",
       "\\item 'Japan'\n",
       "\\item 'Jordan'\n",
       "\\item 'Kazakhstan'\n",
       "\\item 'Kenya'\n",
       "\\item 'Kosovo'\n",
       "\\item 'Kuwait'\n",
       "\\item 'Kyrgyzstan'\n",
       "\\item 'Laos'\n",
       "\\item 'Latvia'\n",
       "\\item 'Lebanon'\n",
       "\\item 'Lesotho'\n",
       "\\item 'Liberia'\n",
       "\\item 'Libya'\n",
       "\\item 'Lithuania'\n",
       "\\item 'Luxembourg{[}i{]}'\n",
       "\\item 'Madagascar'\n",
       "\\item 'Malawi'\n",
       "\\item 'Malaysia'\n",
       "\\item 'Maldives'\n",
       "\\item 'Mali'\n",
       "\\item 'Malta'\n",
       "\\item 'Mauritania'\n",
       "\\item 'Mauritius'\n",
       "\\item 'Mexico'\n",
       "\\item 'Moldova{[}j{]}'\n",
       "\\item 'Mongolia'\n",
       "\\item 'Montenegro'\n",
       "\\item 'Morocco'\n",
       "\\item 'Mozambique'\n",
       "\\item 'Myanmar'\n",
       "\\item 'Namibia'\n",
       "\\item 'Nepal'\n",
       "\\item 'Netherlands'\n",
       "\\item 'New Caledonia'\n",
       "\\item 'New Zealand'\n",
       "\\item 'Niger'\n",
       "\\item 'Nigeria'\n",
       "\\item 'North Korea'\n",
       "\\item 'North Macedonia'\n",
       "\\item 'Northern Cyprus{[}k{]}'\n",
       "\\item 'Norway'\n",
       "\\item 'Oman'\n",
       "\\item 'Pakistan'\n",
       "\\item 'Palestine'\n",
       "\\item 'Panama'\n",
       "\\item 'Papua New Guinea'\n",
       "\\item 'Paraguay'\n",
       "\\item 'Peru'\n",
       "\\item 'Philippines'\n",
       "\\item 'Poland'\n",
       "\\item 'Portugal'\n",
       "\\item 'Qatar'\n",
       "\\item 'Romania'\n",
       "\\item 'Russia'\n",
       "\\item 'Rwanda'\n",
       "\\item 'Saint Kitts and Nevis'\n",
       "\\item 'Saint Lucia'\n",
       "\\item 'Saint Vincent'\n",
       "\\item 'San Marino'\n",
       "\\item 'Saudi Arabia'\n",
       "\\item 'Senegal'\n",
       "\\item 'Serbia'\n",
       "\\item 'Singapore'\n",
       "\\item 'Slovakia'\n",
       "\\item 'Slovenia'\n",
       "\\item 'South Africa'\n",
       "\\item 'South Korea'\n",
       "\\item 'South Sudan'\n",
       "\\item 'Spain'\n",
       "\\item 'Sri Lanka'\n",
       "\\item 'Sudan'\n",
       "\\item 'Sweden'\n",
       "\\item 'Switzerland{[}l{]}'\n",
       "\\item 'Taiwan{[}m{]}'\n",
       "\\item 'Tanzania'\n",
       "\\item 'Thailand'\n",
       "\\item 'Togo'\n",
       "\\item 'Trinidad and Tobago'\n",
       "\\item 'Tunisia'\n",
       "\\item 'Turkey'\n",
       "\\item 'Uganda'\n",
       "\\item 'Ukraine'\n",
       "\\item 'United Arab Emirates'\n",
       "\\item 'United Kingdom'\n",
       "\\item 'United States'\n",
       "\\item 'Uruguay'\n",
       "\\item 'Uzbekistan'\n",
       "\\item 'Venezuela'\n",
       "\\item 'Vietnam'\n",
       "\\item 'Zambia'\n",
       "\\item 'Zimbabwe'\n",
       "\\end{enumerate*}\n"
      ],
      "text/markdown": [
       "1. United Arab Emirates\n",
       "2. United Kingdom\n",
       "3. United States\n",
       "\n",
       "\n",
       "\n",
       "**Levels**: 1. 'Afghanistan'\n",
       "2. 'Albania'\n",
       "3. 'Algeria'\n",
       "4. 'Andorra'\n",
       "5. 'Angola'\n",
       "6. 'Antigua and Barbuda'\n",
       "7. 'Argentina'\n",
       "8. 'Armenia'\n",
       "9. 'Australia'\n",
       "10. 'Austria'\n",
       "11. 'Azerbaijan'\n",
       "12. 'Bahamas'\n",
       "13. 'Bahrain'\n",
       "14. 'Bangladesh'\n",
       "15. 'Barbados'\n",
       "16. 'Belarus'\n",
       "17. 'Belgium'\n",
       "18. 'Belize'\n",
       "19. 'Benin'\n",
       "20. 'Bhutan'\n",
       "21. 'Bolivia'\n",
       "22. 'Bosnia and Herzegovina'\n",
       "23. 'Botswana'\n",
       "24. 'Brazil'\n",
       "25. 'Brunei'\n",
       "26. 'Bulgaria'\n",
       "27. 'Burkina Faso'\n",
       "28. 'Burundi'\n",
       "29. 'Cambodia'\n",
       "30. 'Cameroon'\n",
       "31. 'Canada'\n",
       "32. 'Chad'\n",
       "33. 'Chile'\n",
       "34. 'China[c]'\n",
       "35. 'Colombia'\n",
       "36. 'Costa Rica'\n",
       "37. 'Croatia'\n",
       "38. 'Cuba'\n",
       "39. 'Cyprus[d]'\n",
       "40. 'Czechia'\n",
       "41. 'Denmark[e]'\n",
       "42. 'Djibouti'\n",
       "43. 'Dominica'\n",
       "44. 'Dominican Republic'\n",
       "45. 'DR Congo'\n",
       "46. 'Ecuador'\n",
       "47. 'Egypt'\n",
       "48. 'El Salvador'\n",
       "49. 'Equatorial Guinea'\n",
       "50. 'Estonia'\n",
       "51. 'Eswatini'\n",
       "52. 'Ethiopia'\n",
       "53. 'Faroe Islands'\n",
       "54. 'Fiji'\n",
       "55. 'Finland'\n",
       "56. 'France[f][g]'\n",
       "57. 'Gabon'\n",
       "58. 'Gambia'\n",
       "59. 'Georgia[h]'\n",
       "60. 'Germany'\n",
       "61. 'Ghana'\n",
       "62. 'Greece'\n",
       "63. 'Greenland'\n",
       "64. 'Grenada'\n",
       "65. 'Guatemala'\n",
       "66. 'Guinea'\n",
       "67. 'Guinea-Bissau'\n",
       "68. 'Guyana'\n",
       "69. 'Haiti'\n",
       "70. 'Honduras'\n",
       "71. 'Hungary'\n",
       "72. 'Iceland'\n",
       "73. 'India'\n",
       "74. 'Indonesia'\n",
       "75. 'Iran'\n",
       "76. 'Iraq'\n",
       "77. 'Ireland'\n",
       "78. 'Israel'\n",
       "79. 'Italy'\n",
       "80. 'Ivory Coast'\n",
       "81. 'Jamaica'\n",
       "82. 'Japan'\n",
       "83. 'Jordan'\n",
       "84. 'Kazakhstan'\n",
       "85. 'Kenya'\n",
       "86. 'Kosovo'\n",
       "87. 'Kuwait'\n",
       "88. 'Kyrgyzstan'\n",
       "89. 'Laos'\n",
       "90. 'Latvia'\n",
       "91. 'Lebanon'\n",
       "92. 'Lesotho'\n",
       "93. 'Liberia'\n",
       "94. 'Libya'\n",
       "95. 'Lithuania'\n",
       "96. 'Luxembourg[i]'\n",
       "97. 'Madagascar'\n",
       "98. 'Malawi'\n",
       "99. 'Malaysia'\n",
       "100. 'Maldives'\n",
       "101. 'Mali'\n",
       "102. 'Malta'\n",
       "103. 'Mauritania'\n",
       "104. 'Mauritius'\n",
       "105. 'Mexico'\n",
       "106. 'Moldova[j]'\n",
       "107. 'Mongolia'\n",
       "108. 'Montenegro'\n",
       "109. 'Morocco'\n",
       "110. 'Mozambique'\n",
       "111. 'Myanmar'\n",
       "112. 'Namibia'\n",
       "113. 'Nepal'\n",
       "114. 'Netherlands'\n",
       "115. 'New Caledonia'\n",
       "116. 'New Zealand'\n",
       "117. 'Niger'\n",
       "118. 'Nigeria'\n",
       "119. 'North Korea'\n",
       "120. 'North Macedonia'\n",
       "121. 'Northern Cyprus[k]'\n",
       "122. 'Norway'\n",
       "123. 'Oman'\n",
       "124. 'Pakistan'\n",
       "125. 'Palestine'\n",
       "126. 'Panama'\n",
       "127. 'Papua New Guinea'\n",
       "128. 'Paraguay'\n",
       "129. 'Peru'\n",
       "130. 'Philippines'\n",
       "131. 'Poland'\n",
       "132. 'Portugal'\n",
       "133. 'Qatar'\n",
       "134. 'Romania'\n",
       "135. 'Russia'\n",
       "136. 'Rwanda'\n",
       "137. 'Saint Kitts and Nevis'\n",
       "138. 'Saint Lucia'\n",
       "139. 'Saint Vincent'\n",
       "140. 'San Marino'\n",
       "141. 'Saudi Arabia'\n",
       "142. 'Senegal'\n",
       "143. 'Serbia'\n",
       "144. 'Singapore'\n",
       "145. 'Slovakia'\n",
       "146. 'Slovenia'\n",
       "147. 'South Africa'\n",
       "148. 'South Korea'\n",
       "149. 'South Sudan'\n",
       "150. 'Spain'\n",
       "151. 'Sri Lanka'\n",
       "152. 'Sudan'\n",
       "153. 'Sweden'\n",
       "154. 'Switzerland[l]'\n",
       "155. 'Taiwan[m]'\n",
       "156. 'Tanzania'\n",
       "157. 'Thailand'\n",
       "158. 'Togo'\n",
       "159. 'Trinidad and Tobago'\n",
       "160. 'Tunisia'\n",
       "161. 'Turkey'\n",
       "162. 'Uganda'\n",
       "163. 'Ukraine'\n",
       "164. 'United Arab Emirates'\n",
       "165. 'United Kingdom'\n",
       "166. 'United States'\n",
       "167. 'Uruguay'\n",
       "168. 'Uzbekistan'\n",
       "169. 'Venezuela'\n",
       "170. 'Vietnam'\n",
       "171. 'Zambia'\n",
       "172. 'Zimbabwe'\n",
       "\n",
       "\n"
      ],
      "text/plain": [
       "[1] United Arab Emirates United Kingdom       United States       \n",
       "172 Levels: Afghanistan Albania Algeria Andorra Angola ... Zimbabwe"
      ]
     },
     "metadata": {},
     "output_type": "display_data"
    }
   ],
   "source": [
    "# Use a regular expression `United.+` to find matches\n",
    "utd <- grep('United.+', countries)\n",
    "\n",
    "\n",
    "# Print the matched country names\n",
    "countries[utd]"
   ]
  },
  {
   "cell_type": "markdown",
   "metadata": {},
   "source": [
    "## TASK 8: Pick two countries you are interested, and then review their testing data\n",
    "\n",
    "The goal of task 8 is to compare the COVID-19 test data between two countires, you will need to select two rows from the dataframe, and select `country`, `confirmed`, `confirmed-population-ratio` columns\n"
   ]
  },
  {
   "cell_type": "code",
   "execution_count": 21,
   "metadata": {},
   "outputs": [
    {
     "data": {
      "text/html": [
       "<table>\n",
       "<caption>A data.frame: 1 × 3</caption>\n",
       "<thead>\n",
       "\t<tr><th></th><th scope=col>confirmed</th><th scope=col>country</th><th scope=col>confirmed.population.ratio</th></tr>\n",
       "\t<tr><th></th><th scope=col>&lt;int&gt;</th><th scope=col>&lt;fct&gt;</th><th scope=col>&lt;dbl&gt;</th></tr>\n",
       "</thead>\n",
       "<tbody>\n",
       "\t<tr><th scope=row>165</th><td>4248286</td><td>United Kingdom</td><td>6.3</td></tr>\n",
       "</tbody>\n",
       "</table>\n"
      ],
      "text/latex": [
       "A data.frame: 1 × 3\n",
       "\\begin{tabular}{r|lll}\n",
       "  & confirmed & country & confirmed.population.ratio\\\\\n",
       "  & <int> & <fct> & <dbl>\\\\\n",
       "\\hline\n",
       "\t165 & 4248286 & United Kingdom & 6.3\\\\\n",
       "\\end{tabular}\n"
      ],
      "text/markdown": [
       "\n",
       "A data.frame: 1 × 3\n",
       "\n",
       "| <!--/--> | confirmed &lt;int&gt; | country &lt;fct&gt; | confirmed.population.ratio &lt;dbl&gt; |\n",
       "|---|---|---|---|\n",
       "| 165 | 4248286 | United Kingdom | 6.3 |\n",
       "\n"
      ],
      "text/plain": [
       "    confirmed country        confirmed.population.ratio\n",
       "165 4248286   United Kingdom 6.3                       "
      ]
     },
     "metadata": {},
     "output_type": "display_data"
    },
    {
     "data": {
      "text/html": [
       "<table>\n",
       "<caption>A data.frame: 1 × 3</caption>\n",
       "<thead>\n",
       "\t<tr><th></th><th scope=col>confirmed</th><th scope=col>country</th><th scope=col>confirmed.population.ratio</th></tr>\n",
       "\t<tr><th></th><th scope=col>&lt;int&gt;</th><th scope=col>&lt;fct&gt;</th><th scope=col>&lt;dbl&gt;</th></tr>\n",
       "</thead>\n",
       "<tbody>\n",
       "\t<tr><th scope=row>60</th><td>2532947</td><td>Germany</td><td>3</td></tr>\n",
       "</tbody>\n",
       "</table>\n"
      ],
      "text/latex": [
       "A data.frame: 1 × 3\n",
       "\\begin{tabular}{r|lll}\n",
       "  & confirmed & country & confirmed.population.ratio\\\\\n",
       "  & <int> & <fct> & <dbl>\\\\\n",
       "\\hline\n",
       "\t60 & 2532947 & Germany & 3\\\\\n",
       "\\end{tabular}\n"
      ],
      "text/markdown": [
       "\n",
       "A data.frame: 1 × 3\n",
       "\n",
       "| <!--/--> | confirmed &lt;int&gt; | country &lt;fct&gt; | confirmed.population.ratio &lt;dbl&gt; |\n",
       "|---|---|---|---|\n",
       "| 60 | 2532947 | Germany | 3 |\n",
       "\n"
      ],
      "text/plain": [
       "   confirmed country confirmed.population.ratio\n",
       "60 2532947   Germany 3                         "
      ]
     },
     "metadata": {},
     "output_type": "display_data"
    }
   ],
   "source": [
    "# Select a subset (should be only one row) of data frame based on a selected country name and columns\n",
    "covid_subset[covid_subset$country == 'United Kingdom', c('confirmed','country','confirmed.population.ratio')]\n",
    "\n",
    "# Select a subset (should be only one row) of data frame based on a selected country name and columns\n",
    "covid_subset[covid_subset$country == 'Germany', c('confirmed','country','confirmed.population.ratio')]"
   ]
  },
  {
   "cell_type": "markdown",
   "metadata": {},
   "source": [
    "## TASK 9: Compare which one of the selected countries has a larger ratio of confirmed cases to population\n",
    "\n",
    "The goal of task 9 is to find out which country you have selected before has larger ratio of confirmed cases to population, which may indicate that country has higher COVID-19 infection risk\n"
   ]
  },
  {
   "cell_type": "code",
   "execution_count": 22,
   "metadata": {},
   "outputs": [
    {
     "name": "stdout",
     "output_type": "stream",
     "text": [
      "[1] \"United Kingdom\"\n"
     ]
    }
   ],
   "source": [
    "# Use if-else statement\n",
    "# if (check which confirmed.population value is greater) {\n",
    "#    print()\n",
    "# } else {\n",
    "#    print()\n",
    "# }\n",
    "if (covid_subset[165,'confirmed.population.ratio'] > covid_subset[60, 'confirmed.population.ratio']) {\n",
    "    print('United Kingdom')\n",
    "} else {\n",
    "    print(\"Germany\")\n",
    "}"
   ]
  },
  {
   "cell_type": "markdown",
   "metadata": {},
   "source": [
    "## TASK 10: Find countries with confirmed to population ratio rate less than a threshold\n",
    "\n",
    "The goal of task 10 is to find out which countries have the confirmed to population ratio less than 1%, it may indicate the risk of those countries are relatively low\n"
   ]
  },
  {
   "cell_type": "code",
   "execution_count": 23,
   "metadata": {},
   "outputs": [
    {
     "data": {
      "text/html": [
       "<style>\n",
       ".list-inline {list-style: none; margin:0; padding: 0}\n",
       ".list-inline>li {display: inline-block}\n",
       ".list-inline>li:not(:last-child)::after {content: \"\\00b7\"; padding: 0 .5ex}\n",
       "</style>\n",
       "<ol class=list-inline><li>5 Jan 2021</li><li>2 Mar 2021</li><li>31 Jul 2020</li><li>1 Mar 2021</li><li>1 Mar 2021</li><li>25 Nov 2020</li><li>3 Mar 2021</li><li>18 Nov 2020</li><li>7 Mar 2021</li></ol>\n",
       "\n",
       "<details>\n",
       "\t<summary style=display:list-item;cursor:pointer>\n",
       "\t\t<strong>Levels</strong>:\n",
       "\t</summary>\n",
       "\t<style>\n",
       "\t.list-inline {list-style: none; margin:0; padding: 0}\n",
       "\t.list-inline>li {display: inline-block}\n",
       "\t.list-inline>li:not(:last-child)::after {content: \"\\00b7\"; padding: 0 .5ex}\n",
       "\t</style>\n",
       "\t<ol class=list-inline><li>'1 Mar 2021'</li><li>'10 Feb 2021'</li><li>'10 Mar 2021'</li><li>'11 Feb 2021'</li><li>'11 Mar 2021'</li><li>'12 Mar 2021'</li><li>'13 Mar 2021'</li><li>'14 Jul 2020'</li><li>'14 Mar 2021'</li><li>'15 Feb 2021'</li><li>'15 Mar 2021'</li><li>'17 Dec 2020'</li><li>'17 Feb 2021'</li><li>'18 Feb 2021'</li><li>'18 Nov 2020'</li><li>'19 Feb 2021'</li><li>'2 Mar 2021'</li><li>'2 Nov 2020'</li><li>'22 Feb 2021'</li><li>'22 Nov 2020'</li><li>'25 Nov 2020'</li><li>'27 Feb 2021'</li><li>'28 Feb 2021'</li><li>'28 Oct 2020'</li><li>'29 Jan 2021'</li><li>'3 Feb 2021'</li><li>'3 Mar 2021'</li><li>'31 Jul 2020'</li><li>'4 Aug 2020'</li><li>'4 Mar 2021'</li><li>'5 Jan 2021'</li><li>'5 Mar 2021'</li><li>'6 Mar 2021'</li><li>'7 Jan 2021'</li><li>'7 Mar 2021'</li><li>'8 Mar 2021'</li><li>'9 Mar 2021'</li></ol>\n",
       "</details>"
      ],
      "text/latex": [
       "\\begin{enumerate*}\n",
       "\\item 5 Jan 2021\n",
       "\\item 2 Mar 2021\n",
       "\\item 31 Jul 2020\n",
       "\\item 1 Mar 2021\n",
       "\\item 1 Mar 2021\n",
       "\\item 25 Nov 2020\n",
       "\\item 3 Mar 2021\n",
       "\\item 18 Nov 2020\n",
       "\\item 7 Mar 2021\n",
       "\\end{enumerate*}\n",
       "\n",
       "\\emph{Levels}: \\begin{enumerate*}\n",
       "\\item '1 Mar 2021'\n",
       "\\item '10 Feb 2021'\n",
       "\\item '10 Mar 2021'\n",
       "\\item '11 Feb 2021'\n",
       "\\item '11 Mar 2021'\n",
       "\\item '12 Mar 2021'\n",
       "\\item '13 Mar 2021'\n",
       "\\item '14 Jul 2020'\n",
       "\\item '14 Mar 2021'\n",
       "\\item '15 Feb 2021'\n",
       "\\item '15 Mar 2021'\n",
       "\\item '17 Dec 2020'\n",
       "\\item '17 Feb 2021'\n",
       "\\item '18 Feb 2021'\n",
       "\\item '18 Nov 2020'\n",
       "\\item '19 Feb 2021'\n",
       "\\item '2 Mar 2021'\n",
       "\\item '2 Nov 2020'\n",
       "\\item '22 Feb 2021'\n",
       "\\item '22 Nov 2020'\n",
       "\\item '25 Nov 2020'\n",
       "\\item '27 Feb 2021'\n",
       "\\item '28 Feb 2021'\n",
       "\\item '28 Oct 2020'\n",
       "\\item '29 Jan 2021'\n",
       "\\item '3 Feb 2021'\n",
       "\\item '3 Mar 2021'\n",
       "\\item '31 Jul 2020'\n",
       "\\item '4 Aug 2020'\n",
       "\\item '4 Mar 2021'\n",
       "\\item '5 Jan 2021'\n",
       "\\item '5 Mar 2021'\n",
       "\\item '6 Mar 2021'\n",
       "\\item '7 Jan 2021'\n",
       "\\item '7 Mar 2021'\n",
       "\\item '8 Mar 2021'\n",
       "\\item '9 Mar 2021'\n",
       "\\end{enumerate*}\n"
      ],
      "text/markdown": [
       "1. 5 Jan 2021\n",
       "2. 2 Mar 2021\n",
       "3. 31 Jul 2020\n",
       "4. 1 Mar 2021\n",
       "5. 1 Mar 2021\n",
       "6. 25 Nov 2020\n",
       "7. 3 Mar 2021\n",
       "8. 18 Nov 2020\n",
       "9. 7 Mar 2021\n",
       "\n",
       "\n",
       "\n",
       "**Levels**: 1. '1 Mar 2021'\n",
       "2. '10 Feb 2021'\n",
       "3. '10 Mar 2021'\n",
       "4. '11 Feb 2021'\n",
       "5. '11 Mar 2021'\n",
       "6. '12 Mar 2021'\n",
       "7. '13 Mar 2021'\n",
       "8. '14 Jul 2020'\n",
       "9. '14 Mar 2021'\n",
       "10. '15 Feb 2021'\n",
       "11. '15 Mar 2021'\n",
       "12. '17 Dec 2020'\n",
       "13. '17 Feb 2021'\n",
       "14. '18 Feb 2021'\n",
       "15. '18 Nov 2020'\n",
       "16. '19 Feb 2021'\n",
       "17. '2 Mar 2021'\n",
       "18. '2 Nov 2020'\n",
       "19. '22 Feb 2021'\n",
       "20. '22 Nov 2020'\n",
       "21. '25 Nov 2020'\n",
       "22. '27 Feb 2021'\n",
       "23. '28 Feb 2021'\n",
       "24. '28 Oct 2020'\n",
       "25. '29 Jan 2021'\n",
       "26. '3 Feb 2021'\n",
       "27. '3 Mar 2021'\n",
       "28. '31 Jul 2020'\n",
       "29. '4 Aug 2020'\n",
       "30. '4 Mar 2021'\n",
       "31. '5 Jan 2021'\n",
       "32. '5 Mar 2021'\n",
       "33. '6 Mar 2021'\n",
       "34. '7 Jan 2021'\n",
       "35. '7 Mar 2021'\n",
       "36. '8 Mar 2021'\n",
       "37. '9 Mar 2021'\n",
       "\n",
       "\n"
      ],
      "text/plain": [
       "[1] 5 Jan 2021  2 Mar 2021  31 Jul 2020 1 Mar 2021  1 Mar 2021  25 Nov 2020\n",
       "[7] 3 Mar 2021  18 Nov 2020 7 Mar 2021 \n",
       "37 Levels: 1 Mar 2021 10 Feb 2021 10 Mar 2021 11 Feb 2021 ... 9 Mar 2021"
      ]
     },
     "metadata": {},
     "output_type": "display_data"
    }
   ],
   "source": [
    "# Get a subset of any countries with `confirmed.population.ratio` less than the threshold\n",
    "low_ratio_countries <- subset(covid_subset, covid_subset$confirmed.population.ratio < 0.01)\n",
    "low_ratio_countries[,2]\n"
   ]
  },
  {
   "cell_type": "code",
   "execution_count": null,
   "metadata": {},
   "outputs": [],
   "source": []
  }
 ],
 "metadata": {
  "kernelspec": {
   "display_name": "R",
   "language": "R",
   "name": "conda-env-r-r"
  },
  "language_info": {
   "codemirror_mode": "r",
   "file_extension": ".r",
   "mimetype": "text/x-r-source",
   "name": "R",
   "pygments_lexer": "r",
   "version": "3.5.1"
  }
 },
 "nbformat": 4,
 "nbformat_minor": 4
}
